{
 "cells": [
  {
   "cell_type": "markdown",
   "metadata": {},
   "source": [
    "## In total, there are three implementations conducted, the first one is sumbitted on the ppt. The others are presented as backup. "
   ]
  },
  {
   "cell_type": "markdown",
   "metadata": {},
   "source": [
    "# 1. Conducting K-Means Clustering based on the Frequency and the Monetary values of the EFOOD dataset"
   ]
  },
  {
   "cell_type": "code",
   "execution_count": 1,
   "metadata": {},
   "outputs": [],
   "source": [
    "import pandas as pd \n",
    "import datetime\n",
    "import seaborn as sns\n",
    "from sklearn.preprocessing import StandardScaler\n",
    "from scipy.cluster.hierarchy import dendrogram, linkage\n",
    "import matplotlib.pyplot as plt"
   ]
  },
  {
   "cell_type": "code",
   "execution_count": 2,
   "metadata": {},
   "outputs": [],
   "source": [
    "#Read the dataset\n",
    "df = pd.read_csv('C:/Users/Alexandros Ntzoufas/Desktop/MSC in BA/EFOOD/bq-results-20210331-234015-dd03acfaj8vo.csv')"
   ]
  },
  {
   "cell_type": "code",
   "execution_count": 3,
   "metadata": {},
   "outputs": [
    {
     "data": {
      "text/html": [
       "<div>\n",
       "<style scoped>\n",
       "    .dataframe tbody tr th:only-of-type {\n",
       "        vertical-align: middle;\n",
       "    }\n",
       "\n",
       "    .dataframe tbody tr th {\n",
       "        vertical-align: top;\n",
       "    }\n",
       "\n",
       "    .dataframe thead th {\n",
       "        text-align: right;\n",
       "    }\n",
       "</style>\n",
       "<table border=\"1\" class=\"dataframe\">\n",
       "  <thead>\n",
       "    <tr style=\"text-align: right;\">\n",
       "      <th></th>\n",
       "      <th>order_id</th>\n",
       "      <th>brand</th>\n",
       "      <th>submit_dt</th>\n",
       "      <th>user_id</th>\n",
       "      <th>shop_id</th>\n",
       "      <th>city</th>\n",
       "      <th>cuisine_parent</th>\n",
       "      <th>basket</th>\n",
       "    </tr>\n",
       "  </thead>\n",
       "  <tbody>\n",
       "    <tr>\n",
       "      <th>0</th>\n",
       "      <td>2846837765</td>\n",
       "      <td>GR-EFOOD</td>\n",
       "      <td>2021-01-13 20:37:06 UTC</td>\n",
       "      <td>99103596</td>\n",
       "      <td>206490318</td>\n",
       "      <td>Βόλος</td>\n",
       "      <td>Healthy / Other</td>\n",
       "      <td>9.0</td>\n",
       "    </tr>\n",
       "    <tr>\n",
       "      <th>1</th>\n",
       "      <td>2878146359</td>\n",
       "      <td>GR-EFOOD</td>\n",
       "      <td>2021-01-22 14:28:57 UTC</td>\n",
       "      <td>77179398</td>\n",
       "      <td>206490318</td>\n",
       "      <td>Βόλος</td>\n",
       "      <td>Healthy / Other</td>\n",
       "      <td>7.0</td>\n",
       "    </tr>\n",
       "    <tr>\n",
       "      <th>2</th>\n",
       "      <td>2904155390</td>\n",
       "      <td>GR-EFOOD</td>\n",
       "      <td>2021-01-29 13:52:24 UTC</td>\n",
       "      <td>7233822</td>\n",
       "      <td>206490318</td>\n",
       "      <td>Βόλος</td>\n",
       "      <td>Healthy / Other</td>\n",
       "      <td>6.3</td>\n",
       "    </tr>\n",
       "    <tr>\n",
       "      <th>3</th>\n",
       "      <td>2867086278</td>\n",
       "      <td>GR-EFOOD</td>\n",
       "      <td>2021-01-19 12:19:59 UTC</td>\n",
       "      <td>68621466</td>\n",
       "      <td>206490318</td>\n",
       "      <td>Βόλος</td>\n",
       "      <td>Healthy / Other</td>\n",
       "      <td>7.0</td>\n",
       "    </tr>\n",
       "    <tr>\n",
       "      <th>4</th>\n",
       "      <td>2875723043</td>\n",
       "      <td>GR-EFOOD</td>\n",
       "      <td>2021-01-21 20:08:59 UTC</td>\n",
       "      <td>17007258</td>\n",
       "      <td>206490318</td>\n",
       "      <td>Βόλος</td>\n",
       "      <td>Healthy / Other</td>\n",
       "      <td>11.8</td>\n",
       "    </tr>\n",
       "  </tbody>\n",
       "</table>\n",
       "</div>"
      ],
      "text/plain": [
       "     order_id     brand                submit_dt   user_id    shop_id   city  \\\n",
       "0  2846837765  GR-EFOOD  2021-01-13 20:37:06 UTC  99103596  206490318  Βόλος   \n",
       "1  2878146359  GR-EFOOD  2021-01-22 14:28:57 UTC  77179398  206490318  Βόλος   \n",
       "2  2904155390  GR-EFOOD  2021-01-29 13:52:24 UTC   7233822  206490318  Βόλος   \n",
       "3  2867086278  GR-EFOOD  2021-01-19 12:19:59 UTC  68621466  206490318  Βόλος   \n",
       "4  2875723043  GR-EFOOD  2021-01-21 20:08:59 UTC  17007258  206490318  Βόλος   \n",
       "\n",
       "    cuisine_parent  basket  \n",
       "0  Healthy / Other     9.0  \n",
       "1  Healthy / Other     7.0  \n",
       "2  Healthy / Other     6.3  \n",
       "3  Healthy / Other     7.0  \n",
       "4  Healthy / Other    11.8  "
      ]
     },
     "execution_count": 3,
     "metadata": {},
     "output_type": "execute_result"
    }
   ],
   "source": [
    "df.head()"
   ]
  },
  {
   "cell_type": "code",
   "execution_count": 4,
   "metadata": {},
   "outputs": [
    {
     "data": {
      "text/plain": [
       "order_id          0\n",
       "brand             0\n",
       "submit_dt         0\n",
       "user_id           0\n",
       "shop_id           0\n",
       "city              0\n",
       "cuisine_parent    0\n",
       "basket            0\n",
       "dtype: int64"
      ]
     },
     "execution_count": 4,
     "metadata": {},
     "output_type": "execute_result"
    }
   ],
   "source": [
    "#Check for null values\n",
    "df.isnull().sum()"
   ]
  },
  {
   "cell_type": "code",
   "execution_count": 5,
   "metadata": {},
   "outputs": [
    {
     "data": {
      "text/html": [
       "<div>\n",
       "<style scoped>\n",
       "    .dataframe tbody tr th:only-of-type {\n",
       "        vertical-align: middle;\n",
       "    }\n",
       "\n",
       "    .dataframe tbody tr th {\n",
       "        vertical-align: top;\n",
       "    }\n",
       "\n",
       "    .dataframe thead th {\n",
       "        text-align: right;\n",
       "    }\n",
       "</style>\n",
       "<table border=\"1\" class=\"dataframe\">\n",
       "  <thead>\n",
       "    <tr style=\"text-align: right;\">\n",
       "      <th></th>\n",
       "      <th>order_id</th>\n",
       "      <th>user_id</th>\n",
       "      <th>shop_id</th>\n",
       "      <th>basket</th>\n",
       "    </tr>\n",
       "  </thead>\n",
       "  <tbody>\n",
       "    <tr>\n",
       "      <th>count</th>\n",
       "      <td>4.000000e+05</td>\n",
       "      <td>4.000000e+05</td>\n",
       "      <td>4.000000e+05</td>\n",
       "      <td>400000.000000</td>\n",
       "    </tr>\n",
       "    <tr>\n",
       "      <th>mean</th>\n",
       "      <td>2.859831e+09</td>\n",
       "      <td>7.681345e+07</td>\n",
       "      <td>1.570035e+08</td>\n",
       "      <td>8.723202</td>\n",
       "    </tr>\n",
       "    <tr>\n",
       "      <th>std</th>\n",
       "      <td>3.254756e+07</td>\n",
       "      <td>5.392006e+07</td>\n",
       "      <td>1.214792e+08</td>\n",
       "      <td>6.535030</td>\n",
       "    </tr>\n",
       "    <tr>\n",
       "      <th>min</th>\n",
       "      <td>2.803070e+09</td>\n",
       "      <td>2.746200e+04</td>\n",
       "      <td>1.088100e+04</td>\n",
       "      <td>0.000000</td>\n",
       "    </tr>\n",
       "    <tr>\n",
       "      <th>25%</th>\n",
       "      <td>2.831813e+09</td>\n",
       "      <td>3.346865e+07</td>\n",
       "      <td>4.499470e+07</td>\n",
       "      <td>4.480000</td>\n",
       "    </tr>\n",
       "    <tr>\n",
       "      <th>50%</th>\n",
       "      <td>2.860131e+09</td>\n",
       "      <td>6.733682e+07</td>\n",
       "      <td>1.423500e+08</td>\n",
       "      <td>6.800000</td>\n",
       "    </tr>\n",
       "    <tr>\n",
       "      <th>75%</th>\n",
       "      <td>2.888153e+09</td>\n",
       "      <td>1.069124e+08</td>\n",
       "      <td>2.365069e+08</td>\n",
       "      <td>11.200000</td>\n",
       "    </tr>\n",
       "    <tr>\n",
       "      <th>max</th>\n",
       "      <td>2.915729e+09</td>\n",
       "      <td>1.982852e+08</td>\n",
       "      <td>3.996849e+08</td>\n",
       "      <td>151.850000</td>\n",
       "    </tr>\n",
       "  </tbody>\n",
       "</table>\n",
       "</div>"
      ],
      "text/plain": [
       "           order_id       user_id       shop_id         basket\n",
       "count  4.000000e+05  4.000000e+05  4.000000e+05  400000.000000\n",
       "mean   2.859831e+09  7.681345e+07  1.570035e+08       8.723202\n",
       "std    3.254756e+07  5.392006e+07  1.214792e+08       6.535030\n",
       "min    2.803070e+09  2.746200e+04  1.088100e+04       0.000000\n",
       "25%    2.831813e+09  3.346865e+07  4.499470e+07       4.480000\n",
       "50%    2.860131e+09  6.733682e+07  1.423500e+08       6.800000\n",
       "75%    2.888153e+09  1.069124e+08  2.365069e+08      11.200000\n",
       "max    2.915729e+09  1.982852e+08  3.996849e+08     151.850000"
      ]
     },
     "execution_count": 5,
     "metadata": {},
     "output_type": "execute_result"
    }
   ],
   "source": [
    "df.describe()"
   ]
  },
  {
   "cell_type": "code",
   "execution_count": 6,
   "metadata": {},
   "outputs": [
    {
     "data": {
      "text/plain": [
       "Breakfast          150341\n",
       "Meat               113879\n",
       "Italian             52733\n",
       "Street food         30587\n",
       "Creperie            25046\n",
       "Traditional         15042\n",
       "Ethnic               8628\n",
       "Sweets               2845\n",
       "Healthy / Other       899\n",
       "Name: cuisine_parent, dtype: int64"
      ]
     },
     "execution_count": 6,
     "metadata": {},
     "output_type": "execute_result"
    }
   ],
   "source": [
    "#Examine the values of cuisine parent\n",
    "df['cuisine_parent'].value_counts()"
   ]
  },
  {
   "cell_type": "code",
   "execution_count": 7,
   "metadata": {},
   "outputs": [],
   "source": [
    "#Counting the frequency and summing the basket by user id\n",
    "fm_efood = df.groupby(['user_id']).agg({\n",
    "    'order_id': 'count',\n",
    "    'basket': 'sum'})"
   ]
  },
  {
   "cell_type": "code",
   "execution_count": 8,
   "metadata": {},
   "outputs": [],
   "source": [
    "#Rename columns \n",
    "fm_efood.rename(columns ={ 'order_id':'frequency', 'basket':'monetary'}, inplace=True)\n",
    "fm_efood['monetary']=fm_efood['monetary'].round(1)"
   ]
  },
  {
   "cell_type": "code",
   "execution_count": 9,
   "metadata": {},
   "outputs": [
    {
     "data": {
      "text/html": [
       "<div>\n",
       "<style scoped>\n",
       "    .dataframe tbody tr th:only-of-type {\n",
       "        vertical-align: middle;\n",
       "    }\n",
       "\n",
       "    .dataframe tbody tr th {\n",
       "        vertical-align: top;\n",
       "    }\n",
       "\n",
       "    .dataframe thead th {\n",
       "        text-align: right;\n",
       "    }\n",
       "</style>\n",
       "<table border=\"1\" class=\"dataframe\">\n",
       "  <thead>\n",
       "    <tr style=\"text-align: right;\">\n",
       "      <th></th>\n",
       "      <th>frequency</th>\n",
       "      <th>monetary</th>\n",
       "    </tr>\n",
       "    <tr>\n",
       "      <th>user_id</th>\n",
       "      <th></th>\n",
       "      <th></th>\n",
       "    </tr>\n",
       "  </thead>\n",
       "  <tbody>\n",
       "    <tr>\n",
       "      <th>27462</th>\n",
       "      <td>1</td>\n",
       "      <td>10.6</td>\n",
       "    </tr>\n",
       "    <tr>\n",
       "      <th>39238</th>\n",
       "      <td>2</td>\n",
       "      <td>35.0</td>\n",
       "    </tr>\n",
       "    <tr>\n",
       "      <th>41354</th>\n",
       "      <td>4</td>\n",
       "      <td>29.0</td>\n",
       "    </tr>\n",
       "    <tr>\n",
       "      <th>44068</th>\n",
       "      <td>1</td>\n",
       "      <td>19.5</td>\n",
       "    </tr>\n",
       "    <tr>\n",
       "      <th>49220</th>\n",
       "      <td>1</td>\n",
       "      <td>5.3</td>\n",
       "    </tr>\n",
       "  </tbody>\n",
       "</table>\n",
       "</div>"
      ],
      "text/plain": [
       "         frequency  monetary\n",
       "user_id                     \n",
       "27462            1      10.6\n",
       "39238            2      35.0\n",
       "41354            4      29.0\n",
       "44068            1      19.5\n",
       "49220            1       5.3"
      ]
     },
     "execution_count": 9,
     "metadata": {},
     "output_type": "execute_result"
    }
   ],
   "source": [
    "fm_efood.head()"
   ]
  },
  {
   "cell_type": "code",
   "execution_count": 10,
   "metadata": {},
   "outputs": [
    {
     "name": "stderr",
     "output_type": "stream",
     "text": [
      "C:\\Users\\Alexandros Ntzoufas\\Anaconda3\\lib\\site-packages\\seaborn\\distributions.py:2551: FutureWarning: `distplot` is a deprecated function and will be removed in a future version. Please adapt your code to use either `displot` (a figure-level function with similar flexibility) or `histplot` (an axes-level function for histograms).\n",
      "  warnings.warn(msg, FutureWarning)\n"
     ]
    },
    {
     "data": {
      "text/plain": [
       "<matplotlib.axes._subplots.AxesSubplot at 0x256c2fa8b00>"
      ]
     },
     "execution_count": 10,
     "metadata": {},
     "output_type": "execute_result"
    },
    {
     "data": {
      "image/png": "[encoded data removed]",
      "text/plain": [
       "<Figure size 432x288 with 1 Axes>"
      ]
     },
     "metadata": {
      "needs_background": "light"
     },
     "output_type": "display_data"
    }
   ],
   "source": [
    "sns.distplot(fm_efood.frequency)"
   ]
  },
  {
   "cell_type": "code",
   "execution_count": 11,
   "metadata": {},
   "outputs": [
    {
     "name": "stderr",
     "output_type": "stream",
     "text": [
      "C:\\Users\\Alexandros Ntzoufas\\Anaconda3\\lib\\site-packages\\seaborn\\distributions.py:2551: FutureWarning: `distplot` is a deprecated function and will be removed in a future version. Please adapt your code to use either `displot` (a figure-level function with similar flexibility) or `histplot` (an axes-level function for histograms).\n",
      "  warnings.warn(msg, FutureWarning)\n"
     ]
    },
    {
     "data": {
      "text/plain": [
       "<matplotlib.axes._subplots.AxesSubplot at 0x256c2aea048>"
      ]
     },
     "execution_count": 11,
     "metadata": {},
     "output_type": "execute_result"
    },
    {
     "data": {
      "image/png": "[encoded data removed]",
      "text/plain": [
       "<Figure size 432x288 with 1 Axes>"
      ]
     },
     "metadata": {
      "needs_background": "light"
     },
     "output_type": "display_data"
    }
   ],
   "source": [
    "sns.distplot(fm_efood.monetary)\n"
   ]
  },
  {
   "cell_type": "code",
   "execution_count": 12,
   "metadata": {},
   "outputs": [],
   "source": [
    "#Scalling the data since we have different ranged variables\n",
    "scaler = StandardScaler()\n",
    "efood_std=scaler.fit_transform(fm_efood)"
   ]
  },
  {
   "cell_type": "code",
   "execution_count": 13,
   "metadata": {},
   "outputs": [],
   "source": [
    "#Apply K-Means to define the number of clusters\n",
    "from sklearn.cluster import KMeans\n",
    "wcss=[]\n",
    "for i in range(1,11):\n",
    "    kmeans=KMeans(n_clusters=i, init='k-means++', random_state=42)\n",
    "    kmeans.fit(efood_std)\n",
    "    wcss.append(kmeans.inertia_)"
   ]
  },
  {
   "cell_type": "code",
   "execution_count": 14,
   "metadata": {},
   "outputs": [
    {
     "data": {
      "image/png": "[encoded data removed]",
      "text/plain": [
       "<Figure size 720x576 with 1 Axes>"
      ]
     },
     "metadata": {
      "needs_background": "light"
     },
     "output_type": "display_data"
    }
   ],
   "source": [
    "#Elbow method - For evaluating and determine the number of the clusters\n",
    "plt.figure(figsize=(10,8))\n",
    "plt.plot(range(1,11), wcss, marker='o', linestyle='--')\n",
    "plt.xlabel('Number of Clusters')\n",
    "plt.ylabel('WCSS')\n",
    "plt.title('K-means clustering')\n",
    "plt.show()"
   ]
  },
  {
   "cell_type": "code",
   "execution_count": 15,
   "metadata": {},
   "outputs": [
    {
     "data": {
      "text/plain": [
       "KMeans(algorithm='auto', copy_x=True, init='k-means++', max_iter=300,\n",
       "       n_clusters=4, n_init=10, n_jobs=None, precompute_distances='auto',\n",
       "       random_state=42, tol=0.0001, verbose=0)"
      ]
     },
     "execution_count": 15,
     "metadata": {},
     "output_type": "execute_result"
    }
   ],
   "source": [
    "#Fitting the kmeans model with 4 clusters\n",
    "kmeans=KMeans(n_clusters=4, init='k-means++', random_state=42)\n",
    "kmeans.fit(efood_std)"
   ]
  },
  {
   "cell_type": "code",
   "execution_count": 16,
   "metadata": {},
   "outputs": [],
   "source": [
    "#Copying the dataset and make a new with the K-means clusters / segments\n",
    "df_segm=fm_efood.copy()\n",
    "df_segm['Segment K-means']=kmeans.labels_"
   ]
  },
  {
   "cell_type": "code",
   "execution_count": 17,
   "metadata": {},
   "outputs": [
    {
     "data": {
      "text/html": [
       "<div>\n",
       "<style scoped>\n",
       "    .dataframe tbody tr th:only-of-type {\n",
       "        vertical-align: middle;\n",
       "    }\n",
       "\n",
       "    .dataframe tbody tr th {\n",
       "        vertical-align: top;\n",
       "    }\n",
       "\n",
       "    .dataframe thead th {\n",
       "        text-align: right;\n",
       "    }\n",
       "</style>\n",
       "<table border=\"1\" class=\"dataframe\">\n",
       "  <thead>\n",
       "    <tr style=\"text-align: right;\">\n",
       "      <th></th>\n",
       "      <th>frequency</th>\n",
       "      <th>monetary</th>\n",
       "      <th>Segment K-means</th>\n",
       "    </tr>\n",
       "    <tr>\n",
       "      <th>user_id</th>\n",
       "      <th></th>\n",
       "      <th></th>\n",
       "      <th></th>\n",
       "    </tr>\n",
       "  </thead>\n",
       "  <tbody>\n",
       "    <tr>\n",
       "      <th>27462</th>\n",
       "      <td>1</td>\n",
       "      <td>10.6</td>\n",
       "      <td>0</td>\n",
       "    </tr>\n",
       "    <tr>\n",
       "      <th>39238</th>\n",
       "      <td>2</td>\n",
       "      <td>35.0</td>\n",
       "      <td>2</td>\n",
       "    </tr>\n",
       "    <tr>\n",
       "      <th>41354</th>\n",
       "      <td>4</td>\n",
       "      <td>29.0</td>\n",
       "      <td>2</td>\n",
       "    </tr>\n",
       "    <tr>\n",
       "      <th>44068</th>\n",
       "      <td>1</td>\n",
       "      <td>19.5</td>\n",
       "      <td>0</td>\n",
       "    </tr>\n",
       "    <tr>\n",
       "      <th>49220</th>\n",
       "      <td>1</td>\n",
       "      <td>5.3</td>\n",
       "      <td>0</td>\n",
       "    </tr>\n",
       "  </tbody>\n",
       "</table>\n",
       "</div>"
      ],
      "text/plain": [
       "         frequency  monetary  Segment K-means\n",
       "user_id                                      \n",
       "27462            1      10.6                0\n",
       "39238            2      35.0                2\n",
       "41354            4      29.0                2\n",
       "44068            1      19.5                0\n",
       "49220            1       5.3                0"
      ]
     },
     "execution_count": 17,
     "metadata": {},
     "output_type": "execute_result"
    }
   ],
   "source": [
    "df_segm.head()"
   ]
  },
  {
   "cell_type": "code",
   "execution_count": 18,
   "metadata": {},
   "outputs": [],
   "source": [
    "#Save it to disc in order to further visualize with BI tools\n",
    "#df_segm.to_csv('C:/Users/Alexandros Ntzoufas/Desktop/MSC in BA/EFOOD/Kmeans_segm.csv')"
   ]
  },
  {
   "cell_type": "code",
   "execution_count": 19,
   "metadata": {},
   "outputs": [],
   "source": [
    "#Calculating the number of observation of each segment and the % proportion \n",
    "df_segm_analysis=df_segm.groupby(['Segment K-means']).mean()\n",
    "df_segm_analysis['N Obs']=df_segm[['Segment K-means','frequency']].groupby(['Segment K-means']).count()\n",
    "df_segm_analysis['Prop Obs']=df_segm_analysis['N Obs']/df_segm_analysis['N Obs'].sum()"
   ]
  },
  {
   "cell_type": "code",
   "execution_count": 20,
   "metadata": {},
   "outputs": [
    {
     "data": {
      "text/html": [
       "<div>\n",
       "<style scoped>\n",
       "    .dataframe tbody tr th:only-of-type {\n",
       "        vertical-align: middle;\n",
       "    }\n",
       "\n",
       "    .dataframe tbody tr th {\n",
       "        vertical-align: top;\n",
       "    }\n",
       "\n",
       "    .dataframe thead th {\n",
       "        text-align: right;\n",
       "    }\n",
       "</style>\n",
       "<table border=\"1\" class=\"dataframe\">\n",
       "  <thead>\n",
       "    <tr style=\"text-align: right;\">\n",
       "      <th></th>\n",
       "      <th>frequency</th>\n",
       "      <th>monetary</th>\n",
       "      <th>N Obs</th>\n",
       "      <th>Prop Obs</th>\n",
       "    </tr>\n",
       "    <tr>\n",
       "      <th>Segment K-means</th>\n",
       "      <th></th>\n",
       "      <th></th>\n",
       "      <th></th>\n",
       "      <th></th>\n",
       "    </tr>\n",
       "  </thead>\n",
       "  <tbody>\n",
       "    <tr>\n",
       "      <th>0</th>\n",
       "      <td>1.261229</td>\n",
       "      <td>10.501810</td>\n",
       "      <td>98580</td>\n",
       "      <td>0.604956</td>\n",
       "    </tr>\n",
       "    <tr>\n",
       "      <th>1</th>\n",
       "      <td>6.041245</td>\n",
       "      <td>51.430829</td>\n",
       "      <td>16705</td>\n",
       "      <td>0.102514</td>\n",
       "    </tr>\n",
       "    <tr>\n",
       "      <th>2</th>\n",
       "      <td>2.979497</td>\n",
       "      <td>27.984481</td>\n",
       "      <td>43799</td>\n",
       "      <td>0.268781</td>\n",
       "    </tr>\n",
       "    <tr>\n",
       "      <th>3</th>\n",
       "      <td>11.434109</td>\n",
       "      <td>95.393773</td>\n",
       "      <td>3870</td>\n",
       "      <td>0.023749</td>\n",
       "    </tr>\n",
       "  </tbody>\n",
       "</table>\n",
       "</div>"
      ],
      "text/plain": [
       "                 frequency   monetary  N Obs  Prop Obs\n",
       "Segment K-means                                       \n",
       "0                 1.261229  10.501810  98580  0.604956\n",
       "1                 6.041245  51.430829  16705  0.102514\n",
       "2                 2.979497  27.984481  43799  0.268781\n",
       "3                11.434109  95.393773   3870  0.023749"
      ]
     },
     "execution_count": 20,
     "metadata": {},
     "output_type": "execute_result"
    }
   ],
   "source": [
    "df_segm_analysis.head()"
   ]
  },
  {
   "cell_type": "code",
   "execution_count": 21,
   "metadata": {},
   "outputs": [
    {
     "data": {
      "text/html": [
       "<div>\n",
       "<style scoped>\n",
       "    .dataframe tbody tr th:only-of-type {\n",
       "        vertical-align: middle;\n",
       "    }\n",
       "\n",
       "    .dataframe tbody tr th {\n",
       "        vertical-align: top;\n",
       "    }\n",
       "\n",
       "    .dataframe thead th {\n",
       "        text-align: right;\n",
       "    }\n",
       "</style>\n",
       "<table border=\"1\" class=\"dataframe\">\n",
       "  <thead>\n",
       "    <tr style=\"text-align: right;\">\n",
       "      <th></th>\n",
       "      <th>frequency</th>\n",
       "      <th>monetary</th>\n",
       "      <th>N Obs</th>\n",
       "      <th>Prop Obs</th>\n",
       "    </tr>\n",
       "    <tr>\n",
       "      <th>Segment K-means</th>\n",
       "      <th></th>\n",
       "      <th></th>\n",
       "      <th></th>\n",
       "      <th></th>\n",
       "    </tr>\n",
       "  </thead>\n",
       "  <tbody>\n",
       "    <tr>\n",
       "      <th>Occasional Customers</th>\n",
       "      <td>1.261229</td>\n",
       "      <td>10.501810</td>\n",
       "      <td>98580</td>\n",
       "      <td>0.604956</td>\n",
       "    </tr>\n",
       "    <tr>\n",
       "      <th>Frequent Customers</th>\n",
       "      <td>6.041245</td>\n",
       "      <td>51.430829</td>\n",
       "      <td>16705</td>\n",
       "      <td>0.102514</td>\n",
       "    </tr>\n",
       "    <tr>\n",
       "      <th>Starndard Customers</th>\n",
       "      <td>2.979497</td>\n",
       "      <td>27.984481</td>\n",
       "      <td>43799</td>\n",
       "      <td>0.268781</td>\n",
       "    </tr>\n",
       "    <tr>\n",
       "      <th>Golden Members</th>\n",
       "      <td>11.434109</td>\n",
       "      <td>95.393773</td>\n",
       "      <td>3870</td>\n",
       "      <td>0.023749</td>\n",
       "    </tr>\n",
       "  </tbody>\n",
       "</table>\n",
       "</div>"
      ],
      "text/plain": [
       "                      frequency   monetary  N Obs  Prop Obs\n",
       "Segment K-means                                            \n",
       "Occasional Customers   1.261229  10.501810  98580  0.604956\n",
       "Frequent Customers     6.041245  51.430829  16705  0.102514\n",
       "Starndard Customers    2.979497  27.984481  43799  0.268781\n",
       "Golden Members        11.434109  95.393773   3870  0.023749"
      ]
     },
     "execution_count": 21,
     "metadata": {},
     "output_type": "execute_result"
    }
   ],
   "source": [
    "# Rename the Segments\n",
    "df_segm_analysis.rename({0:'Occasional Customers', \n",
    "                       1:'Frequent Customers', \n",
    "                        2:'Starndard Customers', \n",
    "                        3:'Golden Members'})"
   ]
  },
  {
   "cell_type": "code",
   "execution_count": 22,
   "metadata": {},
   "outputs": [
    {
     "name": "stderr",
     "output_type": "stream",
     "text": [
      "C:\\Users\\Alexandros Ntzoufas\\Anaconda3\\lib\\site-packages\\seaborn\\_decorators.py:43: FutureWarning: Pass the following variables as keyword args: x, y. From version 0.12, the only valid positional argument will be `data`, and passing other arguments without an explicit keyword will result in an error or misinterpretation.\n",
      "  FutureWarning\n"
     ]
    },
    {
     "data": {
      "image/png": "[encoded data removed]",
      "text/plain": [
       "<Figure size 720x576 with 1 Axes>"
      ]
     },
     "metadata": {
      "needs_background": "light"
     },
     "output_type": "display_data"
    }
   ],
   "source": [
    "#Visualize a random sample of the dataset\n",
    "#Since we have descrete values of Frequency, with high number of observations, the values are overwritten, thats why use the sample\n",
    "df_segm_vis=df_segm.sample(500, random_state=11)\n",
    "df_segm_vis['Labels']=df_segm_vis['Segment K-means'].map({0:'Occasional Customers', \n",
    "                       1:'Frequent Customers', \n",
    "                        2:'Starndard Customers', \n",
    "                        3:'Golden Members'})\n",
    "\n",
    "\n",
    "x_axis=df_segm_vis['frequency']\n",
    "y_axis=df_segm_vis['monetary']\n",
    "plt.figure(figsize=(10,8))\n",
    "sns.scatterplot(x_axis,y_axis, hue=df_segm_vis['Labels'], palette=['g', 'r', 'c','m'])\n",
    "plt.title('Segmentation K-means')\n",
    "plt.show()"
   ]
  },
  {
   "cell_type": "markdown",
   "metadata": {},
   "source": [
    "# 2. Performing customer segmentation with quantiles assessment - Distinguish the customers' segments based on the their frequency and monetary values by rating them"
   ]
  },
  {
   "cell_type": "code",
   "execution_count": 23,
   "metadata": {},
   "outputs": [
    {
     "name": "stdout",
     "output_type": "stream",
     "text": [
      "      frequency  monetary\n",
      "0.25        1.0       8.4\n",
      "0.50        2.0      15.2\n",
      "0.75        3.0      27.4 <class 'pandas.core.frame.DataFrame'>\n"
     ]
    },
    {
     "data": {
      "text/plain": [
       "{'frequency': {0.25: 1.0, 0.5: 2.0, 0.75: 3.0},\n",
       " 'monetary': {0.25: 8.4, 0.5: 15.2, 0.75: 27.4}}"
      ]
     },
     "execution_count": 23,
     "metadata": {},
     "output_type": "execute_result"
    }
   ],
   "source": [
    "#Defining the 4 quantiles\n",
    "quartiles = fm_efood.quantile(q=[0.25,0.50,0.75])\n",
    "print(quartiles, type(quartiles))\n",
    "quartiles=quartiles.to_dict()\n",
    "quartiles"
   ]
  },
  {
   "cell_type": "code",
   "execution_count": 24,
   "metadata": {},
   "outputs": [],
   "source": [
    "# Rating the customers based on the Frequency and Monetary value - The higher the FM value, the higher the rating \n",
    "\n",
    "def FMClass(x,p,d):\n",
    "    if x <= d[p][0.25]:\n",
    "        return 1\n",
    "    elif x <= d[p][0.50]:\n",
    "        return 2\n",
    "    elif x <= d[p][0.75]: \n",
    "        return 3\n",
    "    else:\n",
    "        return 4 \n",
    "\n",
    "rfmSeg = fm_efood\n",
    "rfmSeg['F_Quartile'] = rfmSeg['frequency'].apply(FMClass, args=('frequency',quartiles,))\n",
    "rfmSeg['M_Quartile'] = rfmSeg['monetary'].apply(FMClass, args=('monetary',quartiles,))"
   ]
  },
  {
   "cell_type": "code",
   "execution_count": 25,
   "metadata": {},
   "outputs": [
    {
     "data": {
      "text/html": [
       "<div>\n",
       "<style scoped>\n",
       "    .dataframe tbody tr th:only-of-type {\n",
       "        vertical-align: middle;\n",
       "    }\n",
       "\n",
       "    .dataframe tbody tr th {\n",
       "        vertical-align: top;\n",
       "    }\n",
       "\n",
       "    .dataframe thead th {\n",
       "        text-align: right;\n",
       "    }\n",
       "</style>\n",
       "<table border=\"1\" class=\"dataframe\">\n",
       "  <thead>\n",
       "    <tr style=\"text-align: right;\">\n",
       "      <th></th>\n",
       "      <th>frequency</th>\n",
       "      <th>monetary</th>\n",
       "      <th>F_Quartile</th>\n",
       "      <th>M_Quartile</th>\n",
       "      <th>Total Score</th>\n",
       "    </tr>\n",
       "    <tr>\n",
       "      <th>user_id</th>\n",
       "      <th></th>\n",
       "      <th></th>\n",
       "      <th></th>\n",
       "      <th></th>\n",
       "      <th></th>\n",
       "    </tr>\n",
       "  </thead>\n",
       "  <tbody>\n",
       "    <tr>\n",
       "      <th>27462</th>\n",
       "      <td>1</td>\n",
       "      <td>10.6</td>\n",
       "      <td>1</td>\n",
       "      <td>2</td>\n",
       "      <td>3</td>\n",
       "    </tr>\n",
       "    <tr>\n",
       "      <th>39238</th>\n",
       "      <td>2</td>\n",
       "      <td>35.0</td>\n",
       "      <td>2</td>\n",
       "      <td>4</td>\n",
       "      <td>6</td>\n",
       "    </tr>\n",
       "    <tr>\n",
       "      <th>41354</th>\n",
       "      <td>4</td>\n",
       "      <td>29.0</td>\n",
       "      <td>4</td>\n",
       "      <td>4</td>\n",
       "      <td>8</td>\n",
       "    </tr>\n",
       "    <tr>\n",
       "      <th>44068</th>\n",
       "      <td>1</td>\n",
       "      <td>19.5</td>\n",
       "      <td>1</td>\n",
       "      <td>3</td>\n",
       "      <td>4</td>\n",
       "    </tr>\n",
       "    <tr>\n",
       "      <th>49220</th>\n",
       "      <td>1</td>\n",
       "      <td>5.3</td>\n",
       "      <td>1</td>\n",
       "      <td>1</td>\n",
       "      <td>2</td>\n",
       "    </tr>\n",
       "  </tbody>\n",
       "</table>\n",
       "</div>"
      ],
      "text/plain": [
       "         frequency  monetary  F_Quartile  M_Quartile  Total Score\n",
       "user_id                                                          \n",
       "27462            1      10.6           1           2            3\n",
       "39238            2      35.0           2           4            6\n",
       "41354            4      29.0           4           4            8\n",
       "44068            1      19.5           1           3            4\n",
       "49220            1       5.3           1           1            2"
      ]
     },
     "execution_count": 25,
     "metadata": {},
     "output_type": "execute_result"
    }
   ],
   "source": [
    "#Total table with total score and labels of the clusters \n",
    "\n",
    "rfmSeg['Total Score'] =  rfmSeg['F_Quartile'] +rfmSeg['M_Quartile']\n",
    "rfmSeg.head()"
   ]
  },
  {
   "cell_type": "code",
   "execution_count": 26,
   "metadata": {},
   "outputs": [],
   "source": [
    "def label(x):\n",
    "    if x<=2:\n",
    "        return 0\n",
    "    elif x<=4:\n",
    "        return 1\n",
    "    elif x<=6:\n",
    "        return 2\n",
    "    else: return 3\n",
    "rfmSeg['Label'] = rfmSeg['Total Score'].apply(label)"
   ]
  },
  {
   "cell_type": "code",
   "execution_count": 27,
   "metadata": {},
   "outputs": [
    {
     "data": {
      "text/html": [
       "<div>\n",
       "<style scoped>\n",
       "    .dataframe tbody tr th:only-of-type {\n",
       "        vertical-align: middle;\n",
       "    }\n",
       "\n",
       "    .dataframe tbody tr th {\n",
       "        vertical-align: top;\n",
       "    }\n",
       "\n",
       "    .dataframe thead th {\n",
       "        text-align: right;\n",
       "    }\n",
       "</style>\n",
       "<table border=\"1\" class=\"dataframe\">\n",
       "  <thead>\n",
       "    <tr style=\"text-align: right;\">\n",
       "      <th></th>\n",
       "      <th>frequency</th>\n",
       "      <th>monetary</th>\n",
       "      <th>F_Quartile</th>\n",
       "      <th>M_Quartile</th>\n",
       "      <th>Total Score</th>\n",
       "      <th>Label</th>\n",
       "    </tr>\n",
       "    <tr>\n",
       "      <th>user_id</th>\n",
       "      <th></th>\n",
       "      <th></th>\n",
       "      <th></th>\n",
       "      <th></th>\n",
       "      <th></th>\n",
       "      <th></th>\n",
       "    </tr>\n",
       "  </thead>\n",
       "  <tbody>\n",
       "    <tr>\n",
       "      <th>27462</th>\n",
       "      <td>1</td>\n",
       "      <td>10.6</td>\n",
       "      <td>1</td>\n",
       "      <td>2</td>\n",
       "      <td>3</td>\n",
       "      <td>1</td>\n",
       "    </tr>\n",
       "    <tr>\n",
       "      <th>39238</th>\n",
       "      <td>2</td>\n",
       "      <td>35.0</td>\n",
       "      <td>2</td>\n",
       "      <td>4</td>\n",
       "      <td>6</td>\n",
       "      <td>2</td>\n",
       "    </tr>\n",
       "    <tr>\n",
       "      <th>41354</th>\n",
       "      <td>4</td>\n",
       "      <td>29.0</td>\n",
       "      <td>4</td>\n",
       "      <td>4</td>\n",
       "      <td>8</td>\n",
       "      <td>3</td>\n",
       "    </tr>\n",
       "    <tr>\n",
       "      <th>44068</th>\n",
       "      <td>1</td>\n",
       "      <td>19.5</td>\n",
       "      <td>1</td>\n",
       "      <td>3</td>\n",
       "      <td>4</td>\n",
       "      <td>1</td>\n",
       "    </tr>\n",
       "    <tr>\n",
       "      <th>49220</th>\n",
       "      <td>1</td>\n",
       "      <td>5.3</td>\n",
       "      <td>1</td>\n",
       "      <td>1</td>\n",
       "      <td>2</td>\n",
       "      <td>0</td>\n",
       "    </tr>\n",
       "  </tbody>\n",
       "</table>\n",
       "</div>"
      ],
      "text/plain": [
       "         frequency  monetary  F_Quartile  M_Quartile  Total Score  Label\n",
       "user_id                                                                 \n",
       "27462            1      10.6           1           2            3      1\n",
       "39238            2      35.0           2           4            6      2\n",
       "41354            4      29.0           4           4            8      3\n",
       "44068            1      19.5           1           3            4      1\n",
       "49220            1       5.3           1           1            2      0"
      ]
     },
     "execution_count": 27,
     "metadata": {},
     "output_type": "execute_result"
    }
   ],
   "source": [
    "rfmSeg.head()"
   ]
  },
  {
   "cell_type": "code",
   "execution_count": 28,
   "metadata": {},
   "outputs": [],
   "source": [
    "rfmSeg['Label']=rfmSeg['Label'].map({0:'Occasional Customers', \n",
    "                       1: 'Standard Customers',\n",
    "                        2:'Frequent Customers', \n",
    "                        3:'Golden Members'})"
   ]
  },
  {
   "cell_type": "code",
   "execution_count": 29,
   "metadata": {},
   "outputs": [
    {
     "data": {
      "text/html": [
       "<div>\n",
       "<style scoped>\n",
       "    .dataframe tbody tr th:only-of-type {\n",
       "        vertical-align: middle;\n",
       "    }\n",
       "\n",
       "    .dataframe tbody tr th {\n",
       "        vertical-align: top;\n",
       "    }\n",
       "\n",
       "    .dataframe thead th {\n",
       "        text-align: right;\n",
       "    }\n",
       "</style>\n",
       "<table border=\"1\" class=\"dataframe\">\n",
       "  <thead>\n",
       "    <tr style=\"text-align: right;\">\n",
       "      <th></th>\n",
       "      <th>frequency</th>\n",
       "      <th>monetary</th>\n",
       "      <th>F_Quartile</th>\n",
       "      <th>M_Quartile</th>\n",
       "      <th>Total Score</th>\n",
       "      <th>Label</th>\n",
       "    </tr>\n",
       "    <tr>\n",
       "      <th>user_id</th>\n",
       "      <th></th>\n",
       "      <th></th>\n",
       "      <th></th>\n",
       "      <th></th>\n",
       "      <th></th>\n",
       "      <th></th>\n",
       "    </tr>\n",
       "  </thead>\n",
       "  <tbody>\n",
       "    <tr>\n",
       "      <th>27462</th>\n",
       "      <td>1</td>\n",
       "      <td>10.6</td>\n",
       "      <td>1</td>\n",
       "      <td>2</td>\n",
       "      <td>3</td>\n",
       "      <td>Standard Customers</td>\n",
       "    </tr>\n",
       "    <tr>\n",
       "      <th>39238</th>\n",
       "      <td>2</td>\n",
       "      <td>35.0</td>\n",
       "      <td>2</td>\n",
       "      <td>4</td>\n",
       "      <td>6</td>\n",
       "      <td>Frequent Customers</td>\n",
       "    </tr>\n",
       "    <tr>\n",
       "      <th>41354</th>\n",
       "      <td>4</td>\n",
       "      <td>29.0</td>\n",
       "      <td>4</td>\n",
       "      <td>4</td>\n",
       "      <td>8</td>\n",
       "      <td>Golden Members</td>\n",
       "    </tr>\n",
       "    <tr>\n",
       "      <th>44068</th>\n",
       "      <td>1</td>\n",
       "      <td>19.5</td>\n",
       "      <td>1</td>\n",
       "      <td>3</td>\n",
       "      <td>4</td>\n",
       "      <td>Standard Customers</td>\n",
       "    </tr>\n",
       "    <tr>\n",
       "      <th>49220</th>\n",
       "      <td>1</td>\n",
       "      <td>5.3</td>\n",
       "      <td>1</td>\n",
       "      <td>1</td>\n",
       "      <td>2</td>\n",
       "      <td>Occasional Customers</td>\n",
       "    </tr>\n",
       "    <tr>\n",
       "      <th>...</th>\n",
       "      <td>...</td>\n",
       "      <td>...</td>\n",
       "      <td>...</td>\n",
       "      <td>...</td>\n",
       "      <td>...</td>\n",
       "      <td>...</td>\n",
       "    </tr>\n",
       "    <tr>\n",
       "      <th>198280516</th>\n",
       "      <td>1</td>\n",
       "      <td>9.9</td>\n",
       "      <td>1</td>\n",
       "      <td>2</td>\n",
       "      <td>3</td>\n",
       "      <td>Standard Customers</td>\n",
       "    </tr>\n",
       "    <tr>\n",
       "      <th>198281114</th>\n",
       "      <td>1</td>\n",
       "      <td>13.7</td>\n",
       "      <td>1</td>\n",
       "      <td>2</td>\n",
       "      <td>3</td>\n",
       "      <td>Standard Customers</td>\n",
       "    </tr>\n",
       "    <tr>\n",
       "      <th>198283828</th>\n",
       "      <td>1</td>\n",
       "      <td>5.5</td>\n",
       "      <td>1</td>\n",
       "      <td>1</td>\n",
       "      <td>2</td>\n",
       "      <td>Occasional Customers</td>\n",
       "    </tr>\n",
       "    <tr>\n",
       "      <th>198284840</th>\n",
       "      <td>1</td>\n",
       "      <td>5.0</td>\n",
       "      <td>1</td>\n",
       "      <td>1</td>\n",
       "      <td>2</td>\n",
       "      <td>Occasional Customers</td>\n",
       "    </tr>\n",
       "    <tr>\n",
       "      <th>198285208</th>\n",
       "      <td>1</td>\n",
       "      <td>3.6</td>\n",
       "      <td>1</td>\n",
       "      <td>1</td>\n",
       "      <td>2</td>\n",
       "      <td>Occasional Customers</td>\n",
       "    </tr>\n",
       "  </tbody>\n",
       "</table>\n",
       "<p>162954 rows × 6 columns</p>\n",
       "</div>"
      ],
      "text/plain": [
       "           frequency  monetary  F_Quartile  M_Quartile  Total Score  \\\n",
       "user_id                                                               \n",
       "27462              1      10.6           1           2            3   \n",
       "39238              2      35.0           2           4            6   \n",
       "41354              4      29.0           4           4            8   \n",
       "44068              1      19.5           1           3            4   \n",
       "49220              1       5.3           1           1            2   \n",
       "...              ...       ...         ...         ...          ...   \n",
       "198280516          1       9.9           1           2            3   \n",
       "198281114          1      13.7           1           2            3   \n",
       "198283828          1       5.5           1           1            2   \n",
       "198284840          1       5.0           1           1            2   \n",
       "198285208          1       3.6           1           1            2   \n",
       "\n",
       "                          Label  \n",
       "user_id                          \n",
       "27462        Standard Customers  \n",
       "39238        Frequent Customers  \n",
       "41354            Golden Members  \n",
       "44068        Standard Customers  \n",
       "49220      Occasional Customers  \n",
       "...                         ...  \n",
       "198280516    Standard Customers  \n",
       "198281114    Standard Customers  \n",
       "198283828  Occasional Customers  \n",
       "198284840  Occasional Customers  \n",
       "198285208  Occasional Customers  \n",
       "\n",
       "[162954 rows x 6 columns]"
      ]
     },
     "execution_count": 29,
     "metadata": {},
     "output_type": "execute_result"
    }
   ],
   "source": [
    "rfmSeg"
   ]
  },
  {
   "cell_type": "code",
   "execution_count": 30,
   "metadata": {
    "scrolled": true
   },
   "outputs": [
    {
     "name": "stderr",
     "output_type": "stream",
     "text": [
      "C:\\Users\\Alexandros Ntzoufas\\Anaconda3\\lib\\site-packages\\seaborn\\_decorators.py:43: FutureWarning: Pass the following variables as keyword args: x, y. From version 0.12, the only valid positional argument will be `data`, and passing other arguments without an explicit keyword will result in an error or misinterpretation.\n",
      "  FutureWarning\n"
     ]
    },
    {
     "data": {
      "image/png": "[encoded data removed]",
      "text/plain": [
       "<Figure size 720x576 with 1 Axes>"
      ]
     },
     "metadata": {
      "needs_background": "light"
     },
     "output_type": "display_data"
    }
   ],
   "source": [
    "#Visualizing the 4 Clusters\n",
    "\n",
    "df_segm_vis2=rfmSeg.sample(200, random_state=11)\n",
    "x_axis=df_segm_vis2['frequency']\n",
    "y_axis=df_segm_vis2['monetary']\n",
    "plt.figure(figsize=(10,8))\n",
    "sns.scatterplot(x_axis,y_axis, hue=df_segm_vis2['Label'], palette=['g', 'r', 'c','m'])\n",
    "plt.title('Segmentation K-means')\n",
    "plt.show()"
   ]
  },
  {
   "cell_type": "code",
   "execution_count": 31,
   "metadata": {},
   "outputs": [
    {
     "data": {
      "text/html": [
       "<div>\n",
       "<style scoped>\n",
       "    .dataframe tbody tr th:only-of-type {\n",
       "        vertical-align: middle;\n",
       "    }\n",
       "\n",
       "    .dataframe tbody tr th {\n",
       "        vertical-align: top;\n",
       "    }\n",
       "\n",
       "    .dataframe thead th {\n",
       "        text-align: right;\n",
       "    }\n",
       "</style>\n",
       "<table border=\"1\" class=\"dataframe\">\n",
       "  <thead>\n",
       "    <tr style=\"text-align: right;\">\n",
       "      <th></th>\n",
       "      <th>frequency</th>\n",
       "      <th>monetary</th>\n",
       "      <th>F_Quartile</th>\n",
       "      <th>M_Quartile</th>\n",
       "      <th>Total Score</th>\n",
       "      <th>N Obs</th>\n",
       "      <th>Prop Obs</th>\n",
       "    </tr>\n",
       "    <tr>\n",
       "      <th>Label</th>\n",
       "      <th></th>\n",
       "      <th></th>\n",
       "      <th></th>\n",
       "      <th></th>\n",
       "      <th></th>\n",
       "      <th></th>\n",
       "      <th></th>\n",
       "    </tr>\n",
       "  </thead>\n",
       "  <tbody>\n",
       "    <tr>\n",
       "      <th>Frequent Customers</th>\n",
       "      <td>2.346987</td>\n",
       "      <td>23.966720</td>\n",
       "      <td>2.322780</td>\n",
       "      <td>3.130163</td>\n",
       "      <td>5.452944</td>\n",
       "      <td>34618</td>\n",
       "      <td>0.212440</td>\n",
       "    </tr>\n",
       "    <tr>\n",
       "      <th>Golden Members</th>\n",
       "      <td>5.594831</td>\n",
       "      <td>46.379665</td>\n",
       "      <td>3.801424</td>\n",
       "      <td>3.829958</td>\n",
       "      <td>7.631382</td>\n",
       "      <td>37920</td>\n",
       "      <td>0.232704</td>\n",
       "    </tr>\n",
       "    <tr>\n",
       "      <th>Occasional Customers</th>\n",
       "      <td>1.000000</td>\n",
       "      <td>5.362143</td>\n",
       "      <td>1.000000</td>\n",
       "      <td>1.000000</td>\n",
       "      <td>2.000000</td>\n",
       "      <td>36627</td>\n",
       "      <td>0.224769</td>\n",
       "    </tr>\n",
       "    <tr>\n",
       "      <th>Standard Customers</th>\n",
       "      <td>1.300805</td>\n",
       "      <td>13.097299</td>\n",
       "      <td>1.300805</td>\n",
       "      <td>2.163268</td>\n",
       "      <td>3.464073</td>\n",
       "      <td>53789</td>\n",
       "      <td>0.330087</td>\n",
       "    </tr>\n",
       "  </tbody>\n",
       "</table>\n",
       "</div>"
      ],
      "text/plain": [
       "                      frequency   monetary  F_Quartile  M_Quartile  \\\n",
       "Label                                                                \n",
       "Frequent Customers     2.346987  23.966720    2.322780    3.130163   \n",
       "Golden Members         5.594831  46.379665    3.801424    3.829958   \n",
       "Occasional Customers   1.000000   5.362143    1.000000    1.000000   \n",
       "Standard Customers     1.300805  13.097299    1.300805    2.163268   \n",
       "\n",
       "                      Total Score  N Obs  Prop Obs  \n",
       "Label                                               \n",
       "Frequent Customers       5.452944  34618  0.212440  \n",
       "Golden Members           7.631382  37920  0.232704  \n",
       "Occasional Customers     2.000000  36627  0.224769  \n",
       "Standard Customers       3.464073  53789  0.330087  "
      ]
     },
     "execution_count": 31,
     "metadata": {},
     "output_type": "execute_result"
    }
   ],
   "source": [
    "rfmSeg_analysis=rfmSeg.groupby(['Label']).mean()\n",
    "rfmSeg_analysis['N Obs']=rfmSeg[['Label','frequency']].groupby(['Label']).count()\n",
    "rfmSeg_analysis['Prop Obs']=rfmSeg_analysis['N Obs']/rfmSeg_analysis['N Obs'].sum()\n",
    "rfmSeg_analysis"
   ]
  },
  {
   "cell_type": "markdown",
   "metadata": {},
   "source": [
    "# 3. Third implementation -  RFM analysis (Recency - Frequency - Monetary) with K-Means"
   ]
  },
  {
   "cell_type": "markdown",
   "metadata": {},
   "source": [
    "### I tried this implementation since we have date related data. However, the data were only of one month and the description of the case study was mentioning to focus on the frequency and the basket. So I made the implementation just for backup"
   ]
  },
  {
   "cell_type": "code",
   "execution_count": 32,
   "metadata": {},
   "outputs": [],
   "source": [
    "#Formating the dates column (submit_dt)\n",
    "df['submit_dt']=df['submit_dt'].str[:10]\n",
    "df['submit_dt']=pd.to_datetime(df['submit_dt'],format='%Y-%m-%d')"
   ]
  },
  {
   "cell_type": "code",
   "execution_count": 33,
   "metadata": {},
   "outputs": [],
   "source": [
    "# Formulating the RFM(recency, frequency, monetary) dataset\n",
    "#Counting the frequency and summing the basket by user id\n",
    "\n",
    "snap_date = max(df['submit_dt']) + datetime.timedelta(days=1)\n",
    "rfm_efood = df.groupby(['user_id']).agg({\n",
    "    'submit_dt': lambda x: (snap_date - x.max()).days,\n",
    "    'order_id': 'count',\n",
    "    'basket': 'sum'})"
   ]
  },
  {
   "cell_type": "code",
   "execution_count": 34,
   "metadata": {},
   "outputs": [],
   "source": [
    "#Rename columns \n",
    "rfm_efood.rename(columns ={'submit_dt':'recency', 'order_id':'frequency', 'basket':'monetary'}, inplace=True)\n",
    "rfm_efood['monetary']=rfm_efood['monetary'].round(1)"
   ]
  },
  {
   "cell_type": "code",
   "execution_count": 35,
   "metadata": {},
   "outputs": [
    {
     "data": {
      "text/html": [
       "<div>\n",
       "<style scoped>\n",
       "    .dataframe tbody tr th:only-of-type {\n",
       "        vertical-align: middle;\n",
       "    }\n",
       "\n",
       "    .dataframe tbody tr th {\n",
       "        vertical-align: top;\n",
       "    }\n",
       "\n",
       "    .dataframe thead th {\n",
       "        text-align: right;\n",
       "    }\n",
       "</style>\n",
       "<table border=\"1\" class=\"dataframe\">\n",
       "  <thead>\n",
       "    <tr style=\"text-align: right;\">\n",
       "      <th></th>\n",
       "      <th>recency</th>\n",
       "      <th>frequency</th>\n",
       "      <th>monetary</th>\n",
       "    </tr>\n",
       "    <tr>\n",
       "      <th>user_id</th>\n",
       "      <th></th>\n",
       "      <th></th>\n",
       "      <th></th>\n",
       "    </tr>\n",
       "  </thead>\n",
       "  <tbody>\n",
       "    <tr>\n",
       "      <th>27462</th>\n",
       "      <td>26</td>\n",
       "      <td>1</td>\n",
       "      <td>10.6</td>\n",
       "    </tr>\n",
       "    <tr>\n",
       "      <th>39238</th>\n",
       "      <td>5</td>\n",
       "      <td>2</td>\n",
       "      <td>35.0</td>\n",
       "    </tr>\n",
       "    <tr>\n",
       "      <th>41354</th>\n",
       "      <td>4</td>\n",
       "      <td>4</td>\n",
       "      <td>29.0</td>\n",
       "    </tr>\n",
       "    <tr>\n",
       "      <th>44068</th>\n",
       "      <td>15</td>\n",
       "      <td>1</td>\n",
       "      <td>19.5</td>\n",
       "    </tr>\n",
       "    <tr>\n",
       "      <th>49220</th>\n",
       "      <td>28</td>\n",
       "      <td>1</td>\n",
       "      <td>5.3</td>\n",
       "    </tr>\n",
       "  </tbody>\n",
       "</table>\n",
       "</div>"
      ],
      "text/plain": [
       "         recency  frequency  monetary\n",
       "user_id                              \n",
       "27462         26          1      10.6\n",
       "39238          5          2      35.0\n",
       "41354          4          4      29.0\n",
       "44068         15          1      19.5\n",
       "49220         28          1       5.3"
      ]
     },
     "execution_count": 35,
     "metadata": {},
     "output_type": "execute_result"
    }
   ],
   "source": [
    "rfm_efood.head()"
   ]
  },
  {
   "cell_type": "code",
   "execution_count": 36,
   "metadata": {},
   "outputs": [],
   "source": [
    "#Scalling the data since we have different ranged variables\n",
    "scaler = StandardScaler()\n",
    "rfm_std=scaler.fit_transform(rfm_efood)"
   ]
  },
  {
   "cell_type": "code",
   "execution_count": 37,
   "metadata": {},
   "outputs": [],
   "source": [
    "#Apply K-Means to define the number of clusters\n",
    "from sklearn.cluster import KMeans\n",
    "wcss=[]\n",
    "for i in range(1,11):\n",
    "    kmeans=KMeans(n_clusters=i, init='k-means++', random_state=42)\n",
    "    kmeans.fit(rfm_std)\n",
    "    wcss.append(kmeans.inertia_)"
   ]
  },
  {
   "cell_type": "code",
   "execution_count": 38,
   "metadata": {},
   "outputs": [
    {
     "data": {
      "image/png": "[encoded data removed]",
      "text/plain": [
       "<Figure size 720x576 with 1 Axes>"
      ]
     },
     "metadata": {
      "needs_background": "light"
     },
     "output_type": "display_data"
    }
   ],
   "source": [
    "#Elbow method \n",
    "plt.figure(figsize=(10,8))\n",
    "plt.plot(range(1,11), wcss, marker='o', linestyle='--')\n",
    "plt.xlabel('Number of Clusters')\n",
    "plt.ylabel('WCSS')\n",
    "plt.title('K-means clustering')\n",
    "plt.show()"
   ]
  },
  {
   "cell_type": "code",
   "execution_count": 39,
   "metadata": {},
   "outputs": [
    {
     "data": {
      "text/plain": [
       "KMeans(algorithm='auto', copy_x=True, init='k-means++', max_iter=300,\n",
       "       n_clusters=4, n_init=10, n_jobs=None, precompute_distances='auto',\n",
       "       random_state=42, tol=0.0001, verbose=0)"
      ]
     },
     "execution_count": 39,
     "metadata": {},
     "output_type": "execute_result"
    }
   ],
   "source": [
    "#Kmeans clustering with 4 clusters\n",
    "kmeans=KMeans(n_clusters=4, init='k-means++', random_state=42)\n",
    "kmeans.fit(rfm_std)"
   ]
  },
  {
   "cell_type": "code",
   "execution_count": 40,
   "metadata": {},
   "outputs": [],
   "source": [
    "#Copy the initial RFM dataset and creating labels \n",
    "rfm_segm=rfm_efood.copy()\n",
    "rfm_segm['Segment K-means']=kmeans.labels_"
   ]
  },
  {
   "cell_type": "code",
   "execution_count": 41,
   "metadata": {},
   "outputs": [],
   "source": [
    "#Counting the number of observations and the % proportion\n",
    "rfm_segm_analysis=rfm_segm.groupby(['Segment K-means']).mean()\n",
    "rfm_segm_analysis['N Obs']=rfm_segm[['Segment K-means','recency']].groupby(['Segment K-means']).count()\n",
    "rfm_segm_analysis['Prop Obs']=rfm_segm_analysis['N Obs']/rfm_segm_analysis['N Obs'].sum()"
   ]
  },
  {
   "cell_type": "code",
   "execution_count": 42,
   "metadata": {},
   "outputs": [
    {
     "data": {
      "text/html": [
       "<div>\n",
       "<style scoped>\n",
       "    .dataframe tbody tr th:only-of-type {\n",
       "        vertical-align: middle;\n",
       "    }\n",
       "\n",
       "    .dataframe tbody tr th {\n",
       "        vertical-align: top;\n",
       "    }\n",
       "\n",
       "    .dataframe thead th {\n",
       "        text-align: right;\n",
       "    }\n",
       "</style>\n",
       "<table border=\"1\" class=\"dataframe\">\n",
       "  <thead>\n",
       "    <tr style=\"text-align: right;\">\n",
       "      <th></th>\n",
       "      <th>recency</th>\n",
       "      <th>frequency</th>\n",
       "      <th>monetary</th>\n",
       "      <th>N Obs</th>\n",
       "      <th>Prop Obs</th>\n",
       "    </tr>\n",
       "    <tr>\n",
       "      <th>Segment K-means</th>\n",
       "      <th></th>\n",
       "      <th></th>\n",
       "      <th></th>\n",
       "      <th></th>\n",
       "      <th></th>\n",
       "    </tr>\n",
       "  </thead>\n",
       "  <tbody>\n",
       "    <tr>\n",
       "      <th>0</th>\n",
       "      <td>6.697176</td>\n",
       "      <td>1.652213</td>\n",
       "      <td>13.489882</td>\n",
       "      <td>69235</td>\n",
       "      <td>0.424875</td>\n",
       "    </tr>\n",
       "    <tr>\n",
       "      <th>1</th>\n",
       "      <td>22.418822</td>\n",
       "      <td>1.306459</td>\n",
       "      <td>12.966295</td>\n",
       "      <td>53968</td>\n",
       "      <td>0.331185</td>\n",
       "    </tr>\n",
       "    <tr>\n",
       "      <th>2</th>\n",
       "      <td>3.560748</td>\n",
       "      <td>9.805388</td>\n",
       "      <td>81.037356</td>\n",
       "      <td>7276</td>\n",
       "      <td>0.044651</td>\n",
       "    </tr>\n",
       "    <tr>\n",
       "      <th>3</th>\n",
       "      <td>5.771978</td>\n",
       "      <td>4.426728</td>\n",
       "      <td>38.981426</td>\n",
       "      <td>32475</td>\n",
       "      <td>0.199289</td>\n",
       "    </tr>\n",
       "  </tbody>\n",
       "</table>\n",
       "</div>"
      ],
      "text/plain": [
       "                   recency  frequency   monetary  N Obs  Prop Obs\n",
       "Segment K-means                                                  \n",
       "0                 6.697176   1.652213  13.489882  69235  0.424875\n",
       "1                22.418822   1.306459  12.966295  53968  0.331185\n",
       "2                 3.560748   9.805388  81.037356   7276  0.044651\n",
       "3                 5.771978   4.426728  38.981426  32475  0.199289"
      ]
     },
     "execution_count": 42,
     "metadata": {},
     "output_type": "execute_result"
    }
   ],
   "source": [
    "rfm_segm_analysis.head()"
   ]
  },
  {
   "cell_type": "code",
   "execution_count": 43,
   "metadata": {},
   "outputs": [
    {
     "data": {
      "text/html": [
       "<div>\n",
       "<style scoped>\n",
       "    .dataframe tbody tr th:only-of-type {\n",
       "        vertical-align: middle;\n",
       "    }\n",
       "\n",
       "    .dataframe tbody tr th {\n",
       "        vertical-align: top;\n",
       "    }\n",
       "\n",
       "    .dataframe thead th {\n",
       "        text-align: right;\n",
       "    }\n",
       "</style>\n",
       "<table border=\"1\" class=\"dataframe\">\n",
       "  <thead>\n",
       "    <tr style=\"text-align: right;\">\n",
       "      <th></th>\n",
       "      <th>recency</th>\n",
       "      <th>frequency</th>\n",
       "      <th>monetary</th>\n",
       "      <th>Segment K-means</th>\n",
       "      <th>Labels</th>\n",
       "    </tr>\n",
       "    <tr>\n",
       "      <th>user_id</th>\n",
       "      <th></th>\n",
       "      <th></th>\n",
       "      <th></th>\n",
       "      <th></th>\n",
       "      <th></th>\n",
       "    </tr>\n",
       "  </thead>\n",
       "  <tbody>\n",
       "    <tr>\n",
       "      <th>35102278</th>\n",
       "      <td>1</td>\n",
       "      <td>3</td>\n",
       "      <td>89.8</td>\n",
       "      <td>3</td>\n",
       "      <td>Golden Members</td>\n",
       "    </tr>\n",
       "    <tr>\n",
       "      <th>50858198</th>\n",
       "      <td>15</td>\n",
       "      <td>1</td>\n",
       "      <td>3.4</td>\n",
       "      <td>1</td>\n",
       "      <td>Occasional Customers</td>\n",
       "    </tr>\n",
       "    <tr>\n",
       "      <th>108554756</th>\n",
       "      <td>15</td>\n",
       "      <td>1</td>\n",
       "      <td>4.7</td>\n",
       "      <td>1</td>\n",
       "      <td>Occasional Customers</td>\n",
       "    </tr>\n",
       "    <tr>\n",
       "      <th>87636532</th>\n",
       "      <td>9</td>\n",
       "      <td>1</td>\n",
       "      <td>16.4</td>\n",
       "      <td>0</td>\n",
       "      <td>Standard Customers</td>\n",
       "    </tr>\n",
       "    <tr>\n",
       "      <th>40705952</th>\n",
       "      <td>1</td>\n",
       "      <td>1</td>\n",
       "      <td>6.5</td>\n",
       "      <td>0</td>\n",
       "      <td>Standard Customers</td>\n",
       "    </tr>\n",
       "    <tr>\n",
       "      <th>...</th>\n",
       "      <td>...</td>\n",
       "      <td>...</td>\n",
       "      <td>...</td>\n",
       "      <td>...</td>\n",
       "      <td>...</td>\n",
       "    </tr>\n",
       "    <tr>\n",
       "      <th>3832122</th>\n",
       "      <td>11</td>\n",
       "      <td>1</td>\n",
       "      <td>12.5</td>\n",
       "      <td>0</td>\n",
       "      <td>Standard Customers</td>\n",
       "    </tr>\n",
       "    <tr>\n",
       "      <th>3579444</th>\n",
       "      <td>7</td>\n",
       "      <td>2</td>\n",
       "      <td>26.5</td>\n",
       "      <td>0</td>\n",
       "      <td>Standard Customers</td>\n",
       "    </tr>\n",
       "    <tr>\n",
       "      <th>115659134</th>\n",
       "      <td>28</td>\n",
       "      <td>2</td>\n",
       "      <td>13.8</td>\n",
       "      <td>1</td>\n",
       "      <td>Occasional Customers</td>\n",
       "    </tr>\n",
       "    <tr>\n",
       "      <th>114270072</th>\n",
       "      <td>8</td>\n",
       "      <td>1</td>\n",
       "      <td>9.9</td>\n",
       "      <td>0</td>\n",
       "      <td>Standard Customers</td>\n",
       "    </tr>\n",
       "    <tr>\n",
       "      <th>189498242</th>\n",
       "      <td>6</td>\n",
       "      <td>3</td>\n",
       "      <td>17.5</td>\n",
       "      <td>0</td>\n",
       "      <td>Standard Customers</td>\n",
       "    </tr>\n",
       "  </tbody>\n",
       "</table>\n",
       "<p>300 rows × 5 columns</p>\n",
       "</div>"
      ],
      "text/plain": [
       "           recency  frequency  monetary  Segment K-means                Labels\n",
       "user_id                                                                       \n",
       "35102278         1          3      89.8                3        Golden Members\n",
       "50858198        15          1       3.4                1  Occasional Customers\n",
       "108554756       15          1       4.7                1  Occasional Customers\n",
       "87636532         9          1      16.4                0    Standard Customers\n",
       "40705952         1          1       6.5                0    Standard Customers\n",
       "...            ...        ...       ...              ...                   ...\n",
       "3832122         11          1      12.5                0    Standard Customers\n",
       "3579444          7          2      26.5                0    Standard Customers\n",
       "115659134       28          2      13.8                1  Occasional Customers\n",
       "114270072        8          1       9.9                0    Standard Customers\n",
       "189498242        6          3      17.5                0    Standard Customers\n",
       "\n",
       "[300 rows x 5 columns]"
      ]
     },
     "execution_count": 43,
     "metadata": {},
     "output_type": "execute_result"
    }
   ],
   "source": [
    "#Labeling the 4 Clusters\n",
    "\n",
    "rfm_segm_vis=rfm_segm.sample(300, random_state=11)\n",
    "rfm_segm_vis['Labels']=rfm_segm_vis['Segment K-means'].map({0:'Standard Customers', \n",
    "                       1:'Occasional Customers', \n",
    "                        2:'Frequent Customers', \n",
    "                        3:'Golden Members'})\n",
    "rfm_segm_vis"
   ]
  },
  {
   "cell_type": "code",
   "execution_count": 44,
   "metadata": {},
   "outputs": [
    {
     "name": "stderr",
     "output_type": "stream",
     "text": [
      "C:\\Users\\Alexandros Ntzoufas\\Anaconda3\\lib\\site-packages\\seaborn\\_decorators.py:43: FutureWarning: Pass the following variables as keyword args: x, y. From version 0.12, the only valid positional argument will be `data`, and passing other arguments without an explicit keyword will result in an error or misinterpretation.\n",
      "  FutureWarning\n"
     ]
    },
    {
     "data": {
      "image/png": "[encoded data removed]",
      "text/plain": [
       "<Figure size 720x576 with 1 Axes>"
      ]
     },
     "metadata": {
      "needs_background": "light"
     },
     "output_type": "display_data"
    }
   ],
   "source": [
    "# Visualizing the 4 clusters - Monetary VS Frequency\n",
    "x_axis=rfm_segm_vis['frequency']\n",
    "y_axis=rfm_segm_vis['monetary']\n",
    "plt.figure(figsize=(10,8))\n",
    "sns.scatterplot(x_axis,y_axis, hue=rfm_segm_vis['Labels'], palette=['g', 'r', 'c','m'])\n",
    "plt.title('Segmentation K-means')\n",
    "plt.show()"
   ]
  },
  {
   "cell_type": "code",
   "execution_count": 45,
   "metadata": {},
   "outputs": [
    {
     "name": "stderr",
     "output_type": "stream",
     "text": [
      "C:\\Users\\Alexandros Ntzoufas\\Anaconda3\\lib\\site-packages\\seaborn\\_decorators.py:43: FutureWarning: Pass the following variables as keyword args: x, y. From version 0.12, the only valid positional argument will be `data`, and passing other arguments without an explicit keyword will result in an error or misinterpretation.\n",
      "  FutureWarning\n"
     ]
    },
    {
     "data": {
      "image/png": "[encoded data removed]",
      "text/plain": [
       "<Figure size 720x576 with 1 Axes>"
      ]
     },
     "metadata": {
      "needs_background": "light"
     },
     "output_type": "display_data"
    }
   ],
   "source": [
    "# Visualizing the 4 clusters - Monetary VS Recency\n",
    "\n",
    "x_axis=rfm_segm_vis['recency']\n",
    "y_axis=rfm_segm_vis['monetary']\n",
    "plt.figure(figsize=(10,8))\n",
    "sns.scatterplot(x_axis,y_axis, hue=rfm_segm_vis['Labels'], palette=['g', 'r', 'c','m'])\n",
    "plt.title('Segmentation K-means')\n",
    "plt.show()"
   ]
  },
  {
   "cell_type": "code",
   "execution_count": 46,
   "metadata": {},
   "outputs": [
    {
     "name": "stderr",
     "output_type": "stream",
     "text": [
      "C:\\Users\\Alexandros Ntzoufas\\Anaconda3\\lib\\site-packages\\seaborn\\_decorators.py:43: FutureWarning: Pass the following variables as keyword args: x, y. From version 0.12, the only valid positional argument will be `data`, and passing other arguments without an explicit keyword will result in an error or misinterpretation.\n",
      "  FutureWarning\n"
     ]
    },
    {
     "data": {
      "image/png": "[encoded data removed]",
      "text/plain": [
       "<Figure size 720x576 with 1 Axes>"
      ]
     },
     "metadata": {
      "needs_background": "light"
     },
     "output_type": "display_data"
    }
   ],
   "source": [
    "# Visualizing the 4 clusters - Frequency VS Recency\n",
    "\n",
    "x_axis=rfm_segm_vis['recency']\n",
    "y_axis=rfm_segm_vis['frequency']\n",
    "plt.figure(figsize=(10,8))\n",
    "sns.scatterplot(x_axis,y_axis, hue=rfm_segm_vis['Labels'], palette=['g', 'r', 'c','m'])\n",
    "plt.title('Segmentation K-means')\n",
    "plt.show()"
   ]
  },
  {
   "cell_type": "code",
   "execution_count": null,
   "metadata": {},
   "outputs": [],
   "source": []
  }
 ],
 "metadata": {
  "kernelspec": {
   "display_name": "Python 3",
   "language": "python",
   "name": "python3"
  },
  "language_info": {
   "codemirror_mode": {
    "name": "ipython",
    "version": 3
   },
   "file_extension": ".py",
   "mimetype": "text/x-python",
   "name": "python",
   "nbconvert_exporter": "python",
   "pygments_lexer": "ipython3",
   "version": "3.7.1"
  }
 },
 "nbformat": 4,
 "nbformat_minor": 2
}
